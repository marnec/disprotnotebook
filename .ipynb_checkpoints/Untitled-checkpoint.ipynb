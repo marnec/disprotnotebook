{
 "cells": [
  {
   "cell_type": "code",
   "execution_count": 1,
   "metadata": {
    "slideshow": {
     "slide_type": "skip"
    }
   },
   "outputs": [],
   "source": [
    "import numpy as np\n",
    "import json\n",
    "import pandas as pd\n",
    "from pathlib import Path\n",
    "import matplotlib.pyplot as plt\n",
    "import seaborn as sns\n",
    "import matplotlib_venn as venn\n",
    "import upsetplot\n",
    "import ipywidgets as widgets"
   ]
  },
  {
   "cell_type": "code",
   "execution_count": 2,
   "metadata": {
    "slideshow": {
     "slide_type": "skip"
    }
   },
   "outputs": [],
   "source": [
    "disprot = json.load(open(\"disprot8.json\"))"
   ]
  },
  {
   "cell_type": "code",
   "execution_count": 3,
   "metadata": {
    "slideshow": {
     "slide_type": "skip"
    }
   },
   "outputs": [],
   "source": [
    "disprot2uniprot = {}\n",
    "for entry in disprot['data']:\n",
    "    disprot2uniprot[entry['disprot_id']] = entry['acc']"
   ]
  },
  {
   "cell_type": "code",
   "execution_count": 4,
   "metadata": {
    "slideshow": {
     "slide_type": "skip"
    }
   },
   "outputs": [],
   "source": [
    "id_pos = {}\n",
    "tr_pos = {}\n",
    "id_regs = {}\n",
    "tr_regs = {}\n",
    "\n",
    "for entry in disprot['data']:\n",
    "    acc = entry['acc']\n",
    "    id_pos[acc] = set()\n",
    "    tr_pos[acc] = set()\n",
    "    id_regs[acc] = []\n",
    "    tr_regs[acc] = []\n",
    "    \n",
    "    for region in entry['regions']:\n",
    "        if region['term_namespace'] == 'Structural state' and region['term_name'] != 'Order':\n",
    "            id_pos[acc].update(set(range(region['start'], region['end'] + 1)))\n",
    "            id_regs[acc].append((region['start'], region['end']))\n",
    "        elif region['term_namespace'] == 'Structural transition':\n",
    "            tr_pos[acc].update(set(range(region['start'], region['end'] + 1)))\n",
    "            tr_regs[acc].append((region['start'], region['end']))"
   ]
  },
  {
   "cell_type": "code",
   "execution_count": 5,
   "metadata": {
    "slideshow": {
     "slide_type": "skip"
    }
   },
   "outputs": [],
   "source": [
    "st_pos = {}\n",
    "st_regs = {}\n",
    "length = {}\n",
    "\n",
    "for updbs in Path('/mnt/projects/mobidb3.1/data/mobi2/protein_complex').iterdir():\n",
    "    acc = updbs.stem\n",
    "    if acc in id_pos:\n",
    "        \n",
    "        st_pos[acc] = set()\n",
    "        st_regs[acc] = []\n",
    "        with open(updbs) as f:\n",
    "            updbs = json.load(f)\n",
    "            length[acc] = len(updbs['sequence'])\n",
    "            for method in updbs['mobidb_consensus']['disorder']['derived']:\n",
    "                for region in method['regions']:\n",
    "                    if region[-1].upper() in {'S', 'C'}:\n",
    "                        st_pos[acc].update(set(range(region[0], region[1] + 1)))\n",
    "                        st_regs[acc].append((region[0], region[1]))"
   ]
  },
  {
   "cell_type": "markdown",
   "metadata": {
    "slideshow": {
     "slide_type": "slide"
    }
   },
   "source": [
    "[d3-dendogram/index.html](d3-dendogram/index.html)"
   ]
  },
  {
   "cell_type": "code",
   "execution_count": 6,
   "metadata": {
    "slideshow": {
     "slide_type": "skip"
    }
   },
   "outputs": [],
   "source": [
    "neg_mcc = ['DP01870',  'DP02010',  'DP01281',  'DP01456',  'DP01128',  'DP01501',  'DP01427',  'DP01584',  'DP01248',  'DP01203',  'DP01432',  'DP01498',  'DP01145',  'DP01285',  'DP01556',  'DP01407',  'DP02334',  'DP01883',  'DP01316',  'DP02149',  'DP01141',  'DP01278',  'DP01474',  'DP01428',  'DP01124',  'DP01500',  'DP01898',  'DP01503',  'DP01504',  'DP01139',  'DP01494',  'DP01130',  'DP01794',  'DP01505',  'DP01724',  'DP02234',  'DP01590',  'DP01877',  'DP01364',  'DP01172',  'DP01600',  'DP02328',  'DP01774',  'DP01477',  'DP01307',  'DP01844',  'DP01430',  'DP01131',  'DP02086',  'DP01499',  'DP01462',  'DP01280',  'DP01999',  'DP01366',  'DP01185',  'DP01907',  'DP01647',  'DP01612',  'DP02073',  'DP01878',  'DP01195',  'DP01134',  'DP01978',  'DP01313',  'DP02247',  'DP02169',  'DP02324',  'DP01309',  'DP01434',  'DP01323',  'DP01163',  'DP01772',  'DP02231',  'DP01925',  'DP02168',  'DP02326',  'DP01150',  'DP02296',  'DP01437',  'DP01252',  'DP01552',  'DP01762',  'DP01528',  'DP01551',  'DP01396',  'DP01473',  'DP01200',  'DP01355',  'DP01593',  'DP01110',  'DP01914',  'DP02117',  'DP01887',  'DP01193',  'DP01170',  'DP01337',  'DP02025',  'DP01177',  'DP02263',  'DP02170',  'DP02215',  'DP01489',  'DP01967',  'DP01339',  'DP01324',  'DP01439',  'DP01854',  'DP01279',  'DP01749',  'DP01152',  'DP01306',  'DP01964',  'DP01115',  'DP01806',  'DP01512',  'DP01942',  'DP01833',  'DP02005',  'DP01787',  'DP01425',  'DP01431',  'DP01135',  'DP01945',  'DP01946',  'DP01789',  'DP01969',  'DP01140',  'DP01786',  'DP01442',  'DP01300',  'DP01559',  'DP01159',  'DP01151',  'DP01858',  'DP01859',  'DP02205',  'DP01178',  'DP01471',  'DP01860',  'DP02167',  'DP01876',  'DP01228',  'DP02299',  'DP01677',  'DP01148',  'DP01970',  'DP02267',  'DP01521',  'DP01299',  'DP01295',  'DP01293',  'DP01971',  'DP01147',  'DP02066',  'DP01146',  'DP02078',  'DP01776',  'DP01435']\n",
    "neg_mcc = [disprot2uniprot[e] for e in neg_mcc if e in disprot2uniprot]"
   ]
  },
  {
   "cell_type": "code",
   "execution_count": 7,
   "metadata": {
    "slideshow": {
     "slide_type": "skip"
    }
   },
   "outputs": [],
   "source": [
    "overlap_table = {}\n",
    "for entry in length:\n",
    "#     overlap_table[entry] = {}\n",
    "    for res_idx in range(1, length[entry] + 1):\n",
    "        overlap_table[(entry, res_idx)] = {'id': 0, 'st': 0, 'tr': 0, 'id+st': 0, 'id+st+tr': 0, 'id+tr': 0, 'st+tr': 0, 'ido': 0, 'sto': 0, 'tro': 0, '(id+st)o': 0}\n",
    "        # if disorder state\n",
    "        if res_idx in id_pos[entry]:\n",
    "            overlap_table[(entry, res_idx)]['id'] = 1\n",
    "            \n",
    "            # and in pdb\n",
    "            if res_idx in st_pos[entry]:\n",
    "                overlap_table[(entry, res_idx)]['id+st'] = 1\n",
    "                # and in transition\n",
    "                if res_idx in tr_pos[entry]:\n",
    "                    overlap_table[(entry, res_idx)]['id+st+tr'] = 1\n",
    "                else:\n",
    "                    overlap_table[(entry, res_idx)]['(id+st)o'] = 1\n",
    "            \n",
    "            # and in transition\n",
    "            if res_idx in tr_pos[entry]:\n",
    "                overlap_table[(entry, res_idx)]['id+tr'] = 1\n",
    "            \n",
    "            # but not in pdb and transition\n",
    "            if res_idx not in st_pos[entry] and res_idx not in tr_pos[entry]:\n",
    "                    overlap_table[(entry, res_idx)]['ido'] = 1\n",
    "        \n",
    "        # if in pdb\n",
    "        if res_idx in st_pos[entry]:\n",
    "            overlap_table[(entry, res_idx)]['st'] = 1\n",
    "            # and in transition\n",
    "            if res_idx in tr_pos[entry]:\n",
    "                overlap_table[(entry, res_idx)]['st+tr'] = 1\n",
    "            # but not in disorder state and transtion\n",
    "            if res_idx not in id_pos[entry] and res_idx not in tr_pos[entry]:\n",
    "                    overlap_table[(entry, res_idx)]['sto'] = 1\n",
    "        \n",
    "        # if in transition\n",
    "        if res_idx in tr_pos[entry]:\n",
    "            overlap_table[(entry, res_idx)]['tr'] = 1\n",
    "            # but not in disorder state and pdb\n",
    "            if res_idx not in id_pos[entry] and res_idx not in st_pos[entry]:\n",
    "                    overlap_table[(entry, res_idx)]['tro'] = 1\n",
    "            "
   ]
  },
  {
   "cell_type": "code",
   "execution_count": 8,
   "metadata": {
    "slideshow": {
     "slide_type": "skip"
    }
   },
   "outputs": [],
   "source": [
    "overlap_df = pd.DataFrame.from_dict(overlap_table, orient='index')"
   ]
  },
  {
   "cell_type": "code",
   "execution_count": 10,
   "metadata": {
    "slideshow": {
     "slide_type": "slide"
    }
   },
   "outputs": [
    {
     "data": {
      "text/html": [
       "<div>\n",
       "<style scoped>\n",
       "    .dataframe tbody tr th:only-of-type {\n",
       "        vertical-align: middle;\n",
       "    }\n",
       "\n",
       "    .dataframe tbody tr th {\n",
       "        vertical-align: top;\n",
       "    }\n",
       "\n",
       "    .dataframe thead th {\n",
       "        text-align: right;\n",
       "    }\n",
       "</style>\n",
       "<table border=\"1\" class=\"dataframe\">\n",
       "  <thead>\n",
       "    <tr style=\"text-align: right;\">\n",
       "      <th></th>\n",
       "      <th></th>\n",
       "      <th>id</th>\n",
       "      <th>st</th>\n",
       "      <th>tr</th>\n",
       "      <th>id+st</th>\n",
       "      <th>id+st+tr</th>\n",
       "      <th>id+tr</th>\n",
       "      <th>st+tr</th>\n",
       "      <th>ido</th>\n",
       "      <th>sto</th>\n",
       "      <th>tro</th>\n",
       "      <th>(id+st)o</th>\n",
       "    </tr>\n",
       "  </thead>\n",
       "  <tbody>\n",
       "    <tr>\n",
       "      <th rowspan=\"5\" valign=\"top\">Q00955</th>\n",
       "      <th>1</th>\n",
       "      <td>0</td>\n",
       "      <td>0</td>\n",
       "      <td>0</td>\n",
       "      <td>0</td>\n",
       "      <td>0</td>\n",
       "      <td>0</td>\n",
       "      <td>0</td>\n",
       "      <td>0</td>\n",
       "      <td>0</td>\n",
       "      <td>0</td>\n",
       "      <td>0</td>\n",
       "    </tr>\n",
       "    <tr>\n",
       "      <th>2</th>\n",
       "      <td>0</td>\n",
       "      <td>0</td>\n",
       "      <td>0</td>\n",
       "      <td>0</td>\n",
       "      <td>0</td>\n",
       "      <td>0</td>\n",
       "      <td>0</td>\n",
       "      <td>0</td>\n",
       "      <td>0</td>\n",
       "      <td>0</td>\n",
       "      <td>0</td>\n",
       "    </tr>\n",
       "    <tr>\n",
       "      <th>3</th>\n",
       "      <td>0</td>\n",
       "      <td>0</td>\n",
       "      <td>0</td>\n",
       "      <td>0</td>\n",
       "      <td>0</td>\n",
       "      <td>0</td>\n",
       "      <td>0</td>\n",
       "      <td>0</td>\n",
       "      <td>0</td>\n",
       "      <td>0</td>\n",
       "      <td>0</td>\n",
       "    </tr>\n",
       "    <tr>\n",
       "      <th>4</th>\n",
       "      <td>0</td>\n",
       "      <td>0</td>\n",
       "      <td>0</td>\n",
       "      <td>0</td>\n",
       "      <td>0</td>\n",
       "      <td>0</td>\n",
       "      <td>0</td>\n",
       "      <td>0</td>\n",
       "      <td>0</td>\n",
       "      <td>0</td>\n",
       "      <td>0</td>\n",
       "    </tr>\n",
       "    <tr>\n",
       "      <th>5</th>\n",
       "      <td>0</td>\n",
       "      <td>0</td>\n",
       "      <td>0</td>\n",
       "      <td>0</td>\n",
       "      <td>0</td>\n",
       "      <td>0</td>\n",
       "      <td>0</td>\n",
       "      <td>0</td>\n",
       "      <td>0</td>\n",
       "      <td>0</td>\n",
       "      <td>0</td>\n",
       "    </tr>\n",
       "    <tr>\n",
       "      <th>...</th>\n",
       "      <th>...</th>\n",
       "      <td>...</td>\n",
       "      <td>...</td>\n",
       "      <td>...</td>\n",
       "      <td>...</td>\n",
       "      <td>...</td>\n",
       "      <td>...</td>\n",
       "      <td>...</td>\n",
       "      <td>...</td>\n",
       "      <td>...</td>\n",
       "      <td>...</td>\n",
       "      <td>...</td>\n",
       "    </tr>\n",
       "    <tr>\n",
       "      <th rowspan=\"5\" valign=\"top\">P21246</th>\n",
       "      <th>164</th>\n",
       "      <td>1</td>\n",
       "      <td>1</td>\n",
       "      <td>0</td>\n",
       "      <td>1</td>\n",
       "      <td>0</td>\n",
       "      <td>0</td>\n",
       "      <td>0</td>\n",
       "      <td>0</td>\n",
       "      <td>0</td>\n",
       "      <td>0</td>\n",
       "      <td>1</td>\n",
       "    </tr>\n",
       "    <tr>\n",
       "      <th>165</th>\n",
       "      <td>1</td>\n",
       "      <td>1</td>\n",
       "      <td>0</td>\n",
       "      <td>1</td>\n",
       "      <td>0</td>\n",
       "      <td>0</td>\n",
       "      <td>0</td>\n",
       "      <td>0</td>\n",
       "      <td>0</td>\n",
       "      <td>0</td>\n",
       "      <td>1</td>\n",
       "    </tr>\n",
       "    <tr>\n",
       "      <th>166</th>\n",
       "      <td>1</td>\n",
       "      <td>1</td>\n",
       "      <td>0</td>\n",
       "      <td>1</td>\n",
       "      <td>0</td>\n",
       "      <td>0</td>\n",
       "      <td>0</td>\n",
       "      <td>0</td>\n",
       "      <td>0</td>\n",
       "      <td>0</td>\n",
       "      <td>1</td>\n",
       "    </tr>\n",
       "    <tr>\n",
       "      <th>167</th>\n",
       "      <td>1</td>\n",
       "      <td>1</td>\n",
       "      <td>0</td>\n",
       "      <td>1</td>\n",
       "      <td>0</td>\n",
       "      <td>0</td>\n",
       "      <td>0</td>\n",
       "      <td>0</td>\n",
       "      <td>0</td>\n",
       "      <td>0</td>\n",
       "      <td>1</td>\n",
       "    </tr>\n",
       "    <tr>\n",
       "      <th>168</th>\n",
       "      <td>1</td>\n",
       "      <td>1</td>\n",
       "      <td>0</td>\n",
       "      <td>1</td>\n",
       "      <td>0</td>\n",
       "      <td>0</td>\n",
       "      <td>0</td>\n",
       "      <td>0</td>\n",
       "      <td>0</td>\n",
       "      <td>0</td>\n",
       "      <td>1</td>\n",
       "    </tr>\n",
       "  </tbody>\n",
       "</table>\n",
       "<p>642076 rows × 11 columns</p>\n",
       "</div>"
      ],
      "text/plain": [
       "            id  st  tr  id+st  id+st+tr  id+tr  st+tr  ido  sto  tro  (id+st)o\n",
       "Q00955 1     0   0   0      0         0      0      0    0    0    0         0\n",
       "       2     0   0   0      0         0      0      0    0    0    0         0\n",
       "       3     0   0   0      0         0      0      0    0    0    0         0\n",
       "       4     0   0   0      0         0      0      0    0    0    0         0\n",
       "       5     0   0   0      0         0      0      0    0    0    0         0\n",
       "...         ..  ..  ..    ...       ...    ...    ...  ...  ...  ...       ...\n",
       "P21246 164   1   1   0      1         0      0      0    0    0    0         1\n",
       "       165   1   1   0      1         0      0      0    0    0    0         1\n",
       "       166   1   1   0      1         0      0      0    0    0    0         1\n",
       "       167   1   1   0      1         0      0      0    0    0    0         1\n",
       "       168   1   1   0      1         0      0      0    0    0    0         1\n",
       "\n",
       "[642076 rows x 11 columns]"
      ]
     },
     "execution_count": 10,
     "metadata": {},
     "output_type": "execute_result"
    }
   ],
   "source": [
    "overlap_df"
   ]
  },
  {
   "cell_type": "code",
   "execution_count": 23,
   "metadata": {
    "slideshow": {
     "slide_type": "skip"
    }
   },
   "outputs": [],
   "source": [
    "def plot_overlap_distrib():\n",
    "    idst_p = overlap_df.groupby(level=0)['id+st'].mean()\n",
    "    idsttr_p = overlap_df.groupby(level=0)['id+st+tr'].mean()\n",
    "\n",
    "    _, bins = np.histogram(idst_p.values.T)\n",
    "    idst_p_true = idst_p[idst_p > 0]\n",
    "    idsttr_p_true = idsttr_p[idsttr_p > 0]\n",
    "\n",
    "    ax = idst_p.hist(edgecolor='k', bins=bins, label='not overlapping')\n",
    "    ax = idst_p_true.hist(edgecolor='k', bins=bins, label='overlapping with PDB')\n",
    "    ax = idsttr_p_true.hist(edgecolor='k',bins=bins, label='overlapping with PDB and transition')\n",
    "    ax.set_ylabel(\"num proteins\")\n",
    "    ax.set_xlabel(\"overlap %\")\n",
    "    plt.legend();"
   ]
  },
  {
   "cell_type": "code",
   "execution_count": 24,
   "metadata": {
    "slideshow": {
     "slide_type": "slide"
    }
   },
   "outputs": [
    {
     "data": {
      "image/png": "[encoded data removed]",
      "text/plain": [
       "<Figure size 432x288 with 1 Axes>"
      ]
     },
     "metadata": {
      "needs_background": "light"
     },
     "output_type": "display_data"
    }
   ],
   "source": [
    "plot_overlap_distrib()"
   ]
  },
  {
   "cell_type": "code",
   "execution_count": 11,
   "metadata": {
    "slideshow": {
     "slide_type": "skip"
    }
   },
   "outputs": [],
   "source": [
    "o = widgets.FloatSlider(\n",
    "    value=0,\n",
    "    min=0,\n",
    "    max=1,\n",
    "    step=0.01,\n",
    "    description='Min Overlap',\n",
    "    disabled=False,\n",
    "    continuous_update=False,\n",
    "    orientation='horizontal',\n",
    "    readout=True,\n",
    "    readout_format='.2f',\n",
    ")"
   ]
  },
  {
   "cell_type": "code",
   "execution_count": 12,
   "metadata": {
    "slideshow": {
     "slide_type": "skip"
    }
   },
   "outputs": [],
   "source": [
    "id_p = overlap_df.groupby(level=0)['id'].mean()\n",
    "st_p = overlap_df.groupby(level=0)['st'].mean()"
   ]
  },
  {
   "cell_type": "code",
   "execution_count": null,
   "metadata": {
    "slideshow": {
     "slide_type": "skip"
    }
   },
   "outputs": [],
   "source": [
    "def plot_venn(o):\n",
    "    fig, axes = plt.subplots(1, 2, figsize=(10, 5))\n",
    "    venn.venn2([set(id_p[id_p >= o].index), set(st_p[st_p >= o].index)], [\"ID\", \"ST\"], ax=axes[0])\n",
    "    venn.venn3([set(idst_p[idst_p >= o].index), set(neg_mcc), set(idst_p[idst_p == 0].index)], ['ID + ST', 'MCC < 0', 'ST - ID'], ax=axes[1])"
   ]
  },
  {
   "cell_type": "code",
   "execution_count": 13,
   "metadata": {
    "slideshow": {
     "slide_type": "slide"
    }
   },
   "outputs": [
    {
     "data": {
      "application/vnd.jupyter.widget-view+json": {
       "model_id": "33d41380a0ed40348d99fc27cd32c904",
       "version_major": 2,
       "version_minor": 0
      },
      "text/plain": [
       "interactive(children=(FloatSlider(value=0.0, continuous_update=False, description='Min Overlap', max=1.0, step…"
      ]
     },
     "metadata": {},
     "output_type": "display_data"
    }
   ],
   "source": [
    "widgets.interactive(plot_venn, o=o)"
   ]
  },
  {
   "cell_type": "code",
   "execution_count": 14,
   "metadata": {
    "slideshow": {
     "slide_type": "skip"
    }
   },
   "outputs": [],
   "source": [
    "singletons = set(neg_mcc) - (set(id_p[id_p >= 0].index) | set(st_p[st_p >= 0].index))"
   ]
  },
  {
   "cell_type": "code",
   "execution_count": 15,
   "metadata": {
    "slideshow": {
     "slide_type": "skip"
    }
   },
   "outputs": [],
   "source": [
    "idsttr_p = overlap_df[\"id+st+tr\"].groupby(level=0).mean()"
   ]
  },
  {
   "cell_type": "code",
   "execution_count": 16,
   "metadata": {
    "slideshow": {
     "slide_type": "skip"
    }
   },
   "outputs": [],
   "source": [
    "overlap_p = overlap_df.groupby(level=0).mean()"
   ]
  },
  {
   "cell_type": "code",
   "execution_count": 29,
   "metadata": {
    "slideshow": {
     "slide_type": "skip"
    }
   },
   "outputs": [],
   "source": [
    "def plot_idsttr_distrib():\n",
    "    fig, ax = plt.subplots()\n",
    "    ax.hist([\n",
    "        overlap_p[\"id+st+tr\"][overlap_p[\"id+st+tr\"]>0],\n",
    "        overlap_p[\"(id+st)o\"][overlap_p[\"(id+st)o\"]>0]\n",
    "    ], label=[\"ID + ST + TR\", \"ID + ST only\"])\n",
    "    plt.legend();"
   ]
  },
  {
   "cell_type": "code",
   "execution_count": 30,
   "metadata": {
    "slideshow": {
     "slide_type": "slide"
    }
   },
   "outputs": [
    {
     "data": {
      "image/png": "[encoded data removed]",
      "text/plain": [
       "<Figure size 432x288 with 1 Axes>"
      ]
     },
     "metadata": {
      "needs_background": "light"
     },
     "output_type": "display_data"
    }
   ],
   "source": [
    "plot_idsttr_distrib()"
   ]
  },
  {
   "cell_type": "code",
   "execution_count": 25,
   "metadata": {
    "slideshow": {
     "slide_type": "skip"
    }
   },
   "outputs": [],
   "source": [
    "def plot_venn(o):\n",
    "    fig, axes = plt.subplots(1, 2, figsize=(10, 5))\n",
    "    axes[1].set_title(\"Overlap distribution ({},1]\".format(o))\n",
    "    axes[1].hist([\n",
    "        overlap_p[\"id+st+tr\"][overlap_p[\"id+st+tr\"]>o],\n",
    "        overlap_p[\"(id+st)o\"][overlap_p[\"(id+st)o\"]>o]\n",
    "    ], label=[\"ID + ST + TR\", \"ID + ST only\"])\n",
    "    axes[1].set_ylabel(\"n proteins\")\n",
    "    axes[1].set_xlabel(\"overlap %\")\n",
    "    \n",
    "    axes[0].set_title(\"N proteins w/ overlapping (>{}%) annotations\".format(int(o*100)))\n",
    "    venn.venn3([set(overlap_p[\"id+st+tr\"][overlap_p[\"id+st+tr\"]>o].index), set(neg_mcc), set(overlap_p[\"(id+st)o\"][overlap_p[\"(id+st)o\"]>o].index)], \n",
    "               [\"ID + ST + TR\", \"MCC < 0\" , \"ID + ST only\"], ax=axes[0])\n",
    "    plt.legend();\n",
    "    "
   ]
  },
  {
   "cell_type": "code",
   "execution_count": 26,
   "metadata": {
    "slideshow": {
     "slide_type": "slide"
    }
   },
   "outputs": [
    {
     "data": {
      "application/vnd.jupyter.widget-view+json": {
       "model_id": "0a2a526de1c54ee5b0d23a840d0b265c",
       "version_major": 2,
       "version_minor": 0
      },
      "text/plain": [
       "interactive(children=(FloatSlider(value=0.6, continuous_update=False, description='Min Overlap', max=1.0, step…"
      ]
     },
     "metadata": {},
     "output_type": "display_data"
    }
   ],
   "source": [
    "widgets.interactive(plot_venn, o=o)"
   ]
  },
  {
   "cell_type": "code",
   "execution_count": 27,
   "metadata": {
    "slideshow": {
     "slide_type": "skip"
    }
   },
   "outputs": [],
   "source": [
    "def print_proteins(o):\n",
    "    lbls = [\"ID + ST + TR\", \"MCC < 0\" , \"ID + ST only\"]\n",
    "    sets = [set(overlap_p[\"id+st+tr\"][overlap_p[\"id+st+tr\"]>o].index), \n",
    "            set(neg_mcc), set(overlap_p[\"(id+st)o\"][overlap_p[\"(id+st)o\"]>o].index)]\n",
    "    \n",
    "    for i, s1 in enumerate(sets):\n",
    "        for j, s2 in enumerate(sets):\n",
    "            if i < j:\n",
    "                print(\"[{}] & [{}]: {}\\n\".format(lbls[i], lbls[j], s1 & s2))"
   ]
  },
  {
   "cell_type": "code",
   "execution_count": 28,
   "metadata": {
    "slideshow": {
     "slide_type": "slide"
    }
   },
   "outputs": [
    {
     "data": {
      "application/vnd.jupyter.widget-view+json": {
       "model_id": "fe5e2eb55d84461b806091a123b48511",
       "version_major": 2,
       "version_minor": 0
      },
      "text/plain": [
       "interactive(children=(FloatSlider(value=0.6, continuous_update=False, description='Min Overlap', max=1.0, step…"
      ]
     },
     "metadata": {},
     "output_type": "display_data"
    }
   ],
   "source": [
    "widgets.interactive(print_proteins, o=o)                  "
   ]
  },
  {
   "cell_type": "code",
   "execution_count": null,
   "metadata": {},
   "outputs": [],
   "source": []
  }
 ],
 "metadata": {
  "celltoolbar": "Slideshow",
  "kernelspec": {
   "display_name": "notebooks",
   "language": "python",
   "name": "notebooks"
  },
  "language_info": {
   "codemirror_mode": {
    "name": "ipython",
    "version": 3
   },
   "file_extension": ".py",
   "mimetype": "text/x-python",
   "name": "python",
   "nbconvert_exporter": "python",
   "pygments_lexer": "ipython3",
   "version": "3.6.9"
  }
 },
 "nbformat": 4,
 "nbformat_minor": 4
}
